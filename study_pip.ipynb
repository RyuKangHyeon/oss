{
  "cells": [
    {
      "cell_type": "markdown",
      "metadata": {
        "id": "view-in-github",
        "colab_type": "text"
      },
      "source": [
        "<a href=\"https://colab.research.google.com/github/RyuKangHyeon/oss/blob/main/study_pip.ipynb\" target=\"_parent\"><img src=\"https://colab.research.google.com/assets/colab-badge.svg\" alt=\"Open In Colab\"/></a>"
      ]
    },
    {
      "cell_type": "code",
      "execution_count": null,
      "metadata": {
        "id": "lHF0A0XGUj5z"
      },
      "outputs": [],
      "source": []
    },
    {
      "cell_type": "code",
      "execution_count": null,
      "metadata": {
        "colab": {
          "base_uri": "https://localhost:8080/"
        },
        "id": "tn8GybONUqsg",
        "outputId": "8ace83a2-32d8-406c-d12d-25b84f33a670"
      },
      "outputs": [
        {
          "name": "stdout",
          "output_type": "stream",
          "text": [
            "Writing claculator/claculator.py\n"
          ]
        }
      ],
      "source": [
        "%%writefile claculator/claculator.py\n",
        "def add(a,b):\n",
        "    return a+b\n",
        "def subtract(a,b):\n",
        "    return a-b\n",
        "def multiply(a,b):\n",
        "    return a*b\n",
        "def divide(a,b):\n",
        "    return a/b\n",
        "\n"
      ]
    },
    {
      "cell_type": "code",
      "execution_count": null,
      "metadata": {
        "colab": {
          "base_uri": "https://localhost:8080/"
        },
        "id": "IDFYfMOqVRdv",
        "outputId": "1bcd8a35-955c-4eb5-b1dd-ef4b1b389a77"
      },
      "outputs": [
        {
          "name": "stdout",
          "output_type": "stream",
          "text": [
            "Overwriting setup.py\n"
          ]
        }
      ],
      "source": [
        "%%writefile setup.py\n",
        "\n",
        "import setuptools\n",
        "\n",
        "setuptools.setup(\n",
        "    include_package_data=True,\n",
        "    name='claculator',\n",
        "    packages=['claculator'],\n",
        "    classifiers=[\n",
        "        \"Programming Language :: Python :: 3\",\n",
        "    ],\n",
        ")\n",
        "#download_irl = \"\",#다운로드 링크\n",
        "#install_requires=['pandas'],#선행설치 패키지"
      ]
    },
    {
      "cell_type": "code",
      "execution_count": null,
      "metadata": {
        "colab": {
          "base_uri": "https://localhost:8080/"
        },
        "id": "ADOkP-WwX28c",
        "outputId": "c775d4dd-4cda-48e5-f1f4-9ae6035a08b6"
      },
      "outputs": [
        {
          "name": "stdout",
          "output_type": "stream",
          "text": [
            "Writing README.md\n"
          ]
        }
      ],
      "source": [
        "%%writefile README.md\n",
        " README\n",
        " this programe\n"
      ]
    },
    {
      "cell_type": "code",
      "execution_count": null,
      "metadata": {
        "colab": {
          "base_uri": "https://localhost:8080/"
        },
        "id": "ZIlOt7kuYrZK",
        "outputId": "9964dfc0-2de1-4245-cfab-034217197876"
      },
      "outputs": [
        {
          "name": "stdout",
          "output_type": "stream",
          "text": [
            "Requirement already satisfied: wheel in /usr/local/lib/python3.10/dist-packages (0.43.0)\n",
            "Collecting twine\n",
            "  Downloading twine-5.0.0-py3-none-any.whl (37 kB)\n",
            "Collecting pkginfo>=1.8.1 (from twine)\n",
            "  Downloading pkginfo-1.10.0-py3-none-any.whl (30 kB)\n",
            "Collecting readme-renderer>=35.0 (from twine)\n",
            "  Downloading readme_renderer-43.0-py3-none-any.whl (13 kB)\n",
            "Requirement already satisfied: requests>=2.20 in /usr/local/lib/python3.10/dist-packages (from twine) (2.31.0)\n",
            "Collecting requests-toolbelt!=0.9.0,>=0.8.0 (from twine)\n",
            "  Downloading requests_toolbelt-1.0.0-py2.py3-none-any.whl (54 kB)\n",
            "\u001b[2K     \u001b[90m━━━━━━━━━━━━━━━━━━━━━━━━━━━━━━━━━━━━━━━━\u001b[0m \u001b[32m54.5/54.5 kB\u001b[0m \u001b[31m7.0 MB/s\u001b[0m eta \u001b[36m0:00:00\u001b[0m\n",
            "\u001b[?25hRequirement already satisfied: urllib3>=1.26.0 in /usr/local/lib/python3.10/dist-packages (from twine) (2.0.7)\n",
            "Requirement already satisfied: importlib-metadata>=3.6 in /usr/local/lib/python3.10/dist-packages (from twine) (7.1.0)\n",
            "Requirement already satisfied: keyring>=15.1 in /usr/lib/python3/dist-packages (from twine) (23.5.0)\n",
            "Collecting rfc3986>=1.4.0 (from twine)\n",
            "  Downloading rfc3986-2.0.0-py2.py3-none-any.whl (31 kB)\n",
            "Requirement already satisfied: rich>=12.0.0 in /usr/local/lib/python3.10/dist-packages (from twine) (13.7.1)\n",
            "Requirement already satisfied: zipp>=0.5 in /usr/local/lib/python3.10/dist-packages (from importlib-metadata>=3.6->twine) (3.18.1)\n",
            "Collecting nh3>=0.2.14 (from readme-renderer>=35.0->twine)\n",
            "  Downloading nh3-0.2.17-cp37-abi3-manylinux_2_17_x86_64.manylinux2014_x86_64.whl (777 kB)\n",
            "\u001b[2K     \u001b[90m━━━━━━━━━━━━━━━━━━━━━━━━━━━━━━━━━━━━━━━━\u001b[0m \u001b[32m777.1/777.1 kB\u001b[0m \u001b[31m9.5 MB/s\u001b[0m eta \u001b[36m0:00:00\u001b[0m\n",
            "\u001b[?25hRequirement already satisfied: docutils>=0.13.1 in /usr/local/lib/python3.10/dist-packages (from readme-renderer>=35.0->twine) (0.18.1)\n",
            "Requirement already satisfied: Pygments>=2.5.1 in /usr/local/lib/python3.10/dist-packages (from readme-renderer>=35.0->twine) (2.16.1)\n",
            "Requirement already satisfied: charset-normalizer<4,>=2 in /usr/local/lib/python3.10/dist-packages (from requests>=2.20->twine) (3.3.2)\n",
            "Requirement already satisfied: idna<4,>=2.5 in /usr/local/lib/python3.10/dist-packages (from requests>=2.20->twine) (3.6)\n",
            "Requirement already satisfied: certifi>=2017.4.17 in /usr/local/lib/python3.10/dist-packages (from requests>=2.20->twine) (2024.2.2)\n",
            "Requirement already satisfied: markdown-it-py>=2.2.0 in /usr/local/lib/python3.10/dist-packages (from rich>=12.0.0->twine) (3.0.0)\n",
            "Requirement already satisfied: mdurl~=0.1 in /usr/local/lib/python3.10/dist-packages (from markdown-it-py>=2.2.0->rich>=12.0.0->twine) (0.1.2)\n",
            "Installing collected packages: nh3, rfc3986, readme-renderer, pkginfo, requests-toolbelt, twine\n",
            "Successfully installed nh3-0.2.17 pkginfo-1.10.0 readme-renderer-43.0 requests-toolbelt-1.0.0 rfc3986-2.0.0 twine-5.0.0\n"
          ]
        }
      ],
      "source": [
        "!pip install wheel\n",
        "!pip install twine"
      ]
    },
    {
      "cell_type": "code",
      "execution_count": null,
      "metadata": {
        "colab": {
          "background_save": true
        },
        "id": "ntSTxwq1Y2Oz",
        "outputId": "8af8222a-ecca-430c-f0b3-60fdd5a4e6f1"
      },
      "outputs": [
        {
          "name": "stdout",
          "output_type": "stream",
          "text": [
            "running bdist_wheel\n",
            "running build\n",
            "running build_py\n",
            "creating build\n",
            "creating build/lib\n",
            "creating build/lib/claculator\n",
            "copying claculator/claculator.py -> build/lib/claculator\n",
            "running egg_info\n",
            "creating claculator.egg-info\n",
            "writing claculator.egg-info/PKG-INFO\n",
            "writing dependency_links to claculator.egg-info/dependency_links.txt\n",
            "writing top-level names to claculator.egg-info/top_level.txt\n",
            "writing manifest file 'claculator.egg-info/SOURCES.txt'\n",
            "reading manifest file 'claculator.egg-info/SOURCES.txt'\n",
            "writing manifest file 'claculator.egg-info/SOURCES.txt'\n",
            "/usr/local/lib/python3.10/dist-packages/setuptools/_distutils/cmd.py:66: SetuptoolsDeprecationWarning: setup.py install is deprecated.\n",
            "!!\n",
            "\n",
            "        ********************************************************************************\n",
            "        Please avoid running ``setup.py`` directly.\n",
            "        Instead, use pypa/build, pypa/installer, pypa/build or\n",
            "        other standards-based tools.\n",
            "\n",
            "        See https://blog.ganssle.io/articles/2021/10/setup-py-deprecated.html for details.\n",
            "        ********************************************************************************\n",
            "\n",
            "!!\n",
            "  self.initialize_options()\n",
            "installing to build/bdist.linux-x86_64/wheel\n",
            "running install\n",
            "running install_lib\n",
            "creating build/bdist.linux-x86_64\n",
            "creating build/bdist.linux-x86_64/wheel\n",
            "creating build/bdist.linux-x86_64/wheel/claculator\n",
            "copying build/lib/claculator/claculator.py -> build/bdist.linux-x86_64/wheel/claculator\n",
            "running install_egg_info\n",
            "Copying claculator.egg-info to build/bdist.linux-x86_64/wheel/claculator-0.0.0-py3.10.egg-info\n",
            "running install_scripts\n",
            "creating build/bdist.linux-x86_64/wheel/claculator-0.0.0.dist-info/WHEEL\n",
            "creating 'dist/claculator-0.0.0-py3-none-any.whl' and adding 'build/bdist.linux-x86_64/wheel' to it\n",
            "adding 'claculator/claculator.py'\n",
            "adding 'claculator-0.0.0.dist-info/METADATA'\n",
            "adding 'claculator-0.0.0.dist-info/WHEEL'\n",
            "adding 'claculator-0.0.0.dist-info/top_level.txt'\n",
            "adding 'claculator-0.0.0.dist-info/RECORD'\n",
            "removing build/bdist.linux-x86_64/wheel\n"
          ]
        }
      ],
      "source": [
        "!python setup.py bdist_wheel"
      ]
    },
    {
      "cell_type": "code",
      "source": [
        "!twine upload -u kanghyeon -p qwortaz10298 /content/dist/claculator-0.0.0-py3-none-any.whl"
      ],
      "metadata": {
        "colab": {
          "base_uri": "https://localhost:8080/"
        },
        "id": "4g3U-5zgc2Je",
        "outputId": "8030dfc7-c4bd-4996-de9e-e39ce5c42384"
      },
      "execution_count": 15,
      "outputs": [
        {
          "output_type": "stream",
          "name": "stdout",
          "text": [
            "Uploading distributions to https://upload.pypi.org/legacy/\n",
            "Uploading claculator-0.0.0-py3-none-any.whl\n",
            "\u001b[2K\u001b[35m100%\u001b[0m \u001b[90m━━━━━━━━━━━━━━━━━━━━━━━━━━━━━━━━━━━━━━━━\u001b[0m \u001b[32m3.9/3.9 kB\u001b[0m • \u001b[33m00:00\u001b[0m • \u001b[31m?\u001b[0m\n",
            "\u001b[?25h\u001b[33mWARNING \u001b[0m Error during upload. Retry with the --verbose option for more details.                     \n",
            "\u001b[31mERROR   \u001b[0m HTTPError: 403 Forbidden from https://upload.pypi.org/legacy/                              \n",
            "         Invalid or non-existent authentication information. See https://pypi.org/help/#invalid-auth\n",
            "         for more information.                                                                      \n"
          ]
        }
      ]
    }
  ],
  "metadata": {
    "colab": {
      "provenance": [],
      "authorship_tag": "ABX9TyPSzLoSPkWsBz/n4XzVohzk",
      "include_colab_link": true
    },
    "kernelspec": {
      "display_name": "Python 3",
      "name": "python3"
    },
    "language_info": {
      "name": "python"
    }
  },
  "nbformat": 4,
  "nbformat_minor": 0
}